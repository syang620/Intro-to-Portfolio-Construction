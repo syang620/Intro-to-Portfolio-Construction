{
 "cells": [
  {
   "cell_type": "markdown",
   "id": "de9ad2da",
   "metadata": {},
   "source": [
    "Diversification: eliminating unrewarded idiosyncratic risks.  \n",
    "\n",
    "Limits of Diversification:  \n",
    "diversification will fail you if when you need it the most. Trying to address this limitation by \"improving\" diversification simply won't work. Almost by definition one cannot diversify systematic risk. \n",
    "\n",
    "Hedging is the only effective way to have downside protection. \n",
    "\n",
    "insurance is dynamic hedging. "
   ]
  },
  {
   "cell_type": "markdown",
   "id": "05fd731a",
   "metadata": {},
   "source": [
    "CPPI: constant proportion portfolio insurance  \n",
    "Multiplier M, wealth preservation floor x%. Allocation to risky asset: M*(1-x%)   \n",
    "Gap risk: materializes iff the loss on the risky portfolio relative to the save portfolio exceeds 1/M within the trading interval.  "
   ]
  },
  {
   "cell_type": "code",
   "execution_count": 1,
   "id": "9512e0ed",
   "metadata": {},
   "outputs": [],
   "source": [
    "%load_ext autoreload\n",
    "%autoreload 2\n",
    "%matplotlib inline\n",
    "\n",
    "import numpy as np\n",
    "import pandas as pd\n",
    "import edhec_risk_kit_129 as erk\n",
    "\n",
    "# load the industry returns and the total market index \n",
    "ind_return = erk.get_ind_returns()\n",
    "tmi_return = erk.get_total_market_index_returns()"
   ]
  },
  {
   "cell_type": "code",
   "execution_count": 4,
   "id": "8bbee5e5",
   "metadata": {},
   "outputs": [],
   "source": [
    "risky_r = ind_return[\"2000\":][['Steel', 'Fin', 'Beer']]\n",
    "safe_r = pd.DataFrame().reindex_like(risky_r) #give safe_r the same shape as risky_r\n",
    "safe_r[:] = 0.03/12"
   ]
  },
  {
   "cell_type": "code",
   "execution_count": 6,
   "id": "0ee9839e",
   "metadata": {},
   "outputs": [
    {
     "data": {
      "text/plain": [
       "Steel   -0.051696\n",
       "Fin      1.773937\n",
       "Beer     3.361349\n",
       "dtype: float64"
      ]
     },
     "execution_count": 6,
     "metadata": {},
     "output_type": "execute_result"
    }
   ],
   "source": [
    "start = 1000\n",
    "floor = 0.8\n",
    "\n",
    "# 1. cushion: asset value - floor value\n",
    "# 2. allocation to safe and risky -> m*risk budget\n",
    "# 3. recompute asset value\n",
    "\n",
    "erk.compound(risky_r)"
   ]
  },
  {
   "cell_type": "code",
   "execution_count": 7,
   "id": "a22dab97",
   "metadata": {},
   "outputs": [],
   "source": [
    "# %timeit "
   ]
  },
  {
   "cell_type": "markdown",
   "id": "909a10f2",
   "metadata": {},
   "source": [
    "### CPPI"
   ]
  },
  {
   "cell_type": "code",
   "execution_count": 9,
   "id": "d9be5bf2",
   "metadata": {},
   "outputs": [],
   "source": [
    "date = risky_r.index\n",
    "n_steps = len(date)\n",
    "account_val = start\n",
    "floor = start * floor\n",
    "m = 3\n",
    "\n",
    "account_history = pd.DataFrame().reindex_like(risky_r)\n",
    "cushion_history = pd.DataFrame().reindex_like(risky_r)\n",
    "risky_w_history = pd.DataFrame().reindex_like(risky_r)\n",
    "\n",
    "for step in range(n_steps):\n",
    "    cushion = (account_val - floor) / account_val\n",
    "    risky_w = m * cushion\n",
    "    risky_w = np.minimum(risky_w, 1)\n",
    "    safe_w = np.maximum(1-risky_w, 0)\n",
    "    \n",
    "    risky_alloc = account_val * risky_w\n",
    "    safe_alloc = account_val * safe_w\n",
    "    \n",
    "    # update the account value\n",
    "    account_val = risky_alloc*(1+risky_r.iloc[step]) + safe_alloc * (1+safe_r.iloc[step])\n",
    "    \n",
    "    cushion_history.iloc[step] = cushion\n",
    "    account_history.iloc[step] = account_val\n",
    "    risky_w_history.iloc[step] = risky_w"
   ]
  },
  {
   "cell_type": "code",
   "execution_count": 10,
   "id": "93be8150",
   "metadata": {},
   "outputs": [
    {
     "data": {
      "text/html": [
       "<div>\n",
       "<style scoped>\n",
       "    .dataframe tbody tr th:only-of-type {\n",
       "        vertical-align: middle;\n",
       "    }\n",
       "\n",
       "    .dataframe tbody tr th {\n",
       "        vertical-align: top;\n",
       "    }\n",
       "\n",
       "    .dataframe thead th {\n",
       "        text-align: right;\n",
       "    }\n",
       "</style>\n",
       "<table border=\"1\" class=\"dataframe\">\n",
       "  <thead>\n",
       "    <tr style=\"text-align: right;\">\n",
       "      <th></th>\n",
       "      <th>Steel</th>\n",
       "      <th>Fin</th>\n",
       "      <th>Beer</th>\n",
       "    </tr>\n",
       "  </thead>\n",
       "  <tbody>\n",
       "    <tr>\n",
       "      <th>2000-01</th>\n",
       "      <td>984.380000</td>\n",
       "      <td>974.480000</td>\n",
       "      <td>987.320000</td>\n",
       "    </tr>\n",
       "    <tr>\n",
       "      <th>2000-02</th>\n",
       "      <td>1023.292876</td>\n",
       "      <td>931.167544</td>\n",
       "      <td>922.971256</td>\n",
       "    </tr>\n",
       "    <tr>\n",
       "      <th>2000-03</th>\n",
       "      <td>1047.555176</td>\n",
       "      <td>998.187296</td>\n",
       "      <td>924.835988</td>\n",
       "    </tr>\n",
       "    <tr>\n",
       "      <th>2000-04</th>\n",
       "      <td>1042.079009</td>\n",
       "      <td>973.927479</td>\n",
       "      <td>939.993701</td>\n",
       "    </tr>\n",
       "    <tr>\n",
       "      <th>2000-05</th>\n",
       "      <td>1007.137753</td>\n",
       "      <td>1001.460033</td>\n",
       "      <td>991.145489</td>\n",
       "    </tr>\n",
       "  </tbody>\n",
       "</table>\n",
       "</div>"
      ],
      "text/plain": [
       "               Steel          Fin        Beer\n",
       "2000-01   984.380000   974.480000  987.320000\n",
       "2000-02  1023.292876   931.167544  922.971256\n",
       "2000-03  1047.555176   998.187296  924.835988\n",
       "2000-04  1042.079009   973.927479  939.993701\n",
       "2000-05  1007.137753  1001.460033  991.145489"
      ]
     },
     "execution_count": 10,
     "metadata": {},
     "output_type": "execute_result"
    }
   ],
   "source": [
    "account_history.head()"
   ]
  },
  {
   "cell_type": "markdown",
   "id": "bc9c4309",
   "metadata": {},
   "source": [
    "### Random Walk Generation  \n",
    "\n",
    "$\\frac{S_{t+dt}-S_t}{S_t} = \\mu dt + \\sigma \\sqrt{dt}\\xi _t$"
   ]
  },
  {
   "cell_type": "code",
   "execution_count": 15,
   "id": "85d5c910",
   "metadata": {},
   "outputs": [],
   "source": [
    "def gbm(n_years = 10, n_scenarios = 1000, mu = 0.07, sigma = 0.15, steps_per_year = 12, s_0 = 100.0):\n",
    "    \n",
    "    dt = 1 / steps_per_year\n",
    "    n_steps = n_years * steps_per_year\n",
    "    xi = np.random.normal(size=(n_steps, n_scenarios))\n",
    "    rets = mu * dt + sigma * np.sqrt(dt)*xi\n",
    "    rets = pd.DataFrame(rets)\n",
    "    \n",
    "    # to prices\n",
    "    prices = s_0 * (1+rets).cumprod(axis = 1)\n",
    "    return prices"
   ]
  },
  {
   "cell_type": "code",
   "execution_count": 16,
   "id": "01d85e1e",
   "metadata": {},
   "outputs": [
    {
     "data": {
      "text/plain": [
       "(120, 3)"
      ]
     },
     "execution_count": 16,
     "metadata": {},
     "output_type": "execute_result"
    }
   ],
   "source": [
    "p = gbm(10, n_scenarios=3)\n",
    "p.shape"
   ]
  },
  {
   "cell_type": "code",
   "execution_count": 17,
   "id": "e0e2e341",
   "metadata": {},
   "outputs": [
    {
     "data": {
      "text/html": [
       "<div>\n",
       "<style scoped>\n",
       "    .dataframe tbody tr th:only-of-type {\n",
       "        vertical-align: middle;\n",
       "    }\n",
       "\n",
       "    .dataframe tbody tr th {\n",
       "        vertical-align: top;\n",
       "    }\n",
       "\n",
       "    .dataframe thead th {\n",
       "        text-align: right;\n",
       "    }\n",
       "</style>\n",
       "<table border=\"1\" class=\"dataframe\">\n",
       "  <thead>\n",
       "    <tr style=\"text-align: right;\">\n",
       "      <th></th>\n",
       "      <th>0</th>\n",
       "      <th>1</th>\n",
       "      <th>2</th>\n",
       "    </tr>\n",
       "  </thead>\n",
       "  <tbody>\n",
       "    <tr>\n",
       "      <th>0</th>\n",
       "      <td>101.515442</td>\n",
       "      <td>103.392219</td>\n",
       "      <td>106.376413</td>\n",
       "    </tr>\n",
       "    <tr>\n",
       "      <th>1</th>\n",
       "      <td>102.769878</td>\n",
       "      <td>100.176365</td>\n",
       "      <td>109.242971</td>\n",
       "    </tr>\n",
       "    <tr>\n",
       "      <th>2</th>\n",
       "      <td>90.242372</td>\n",
       "      <td>90.218719</td>\n",
       "      <td>95.475861</td>\n",
       "    </tr>\n",
       "    <tr>\n",
       "      <th>3</th>\n",
       "      <td>105.474899</td>\n",
       "      <td>112.095220</td>\n",
       "      <td>116.517047</td>\n",
       "    </tr>\n",
       "    <tr>\n",
       "      <th>4</th>\n",
       "      <td>93.759464</td>\n",
       "      <td>91.451474</td>\n",
       "      <td>97.193932</td>\n",
       "    </tr>\n",
       "  </tbody>\n",
       "</table>\n",
       "</div>"
      ],
      "text/plain": [
       "            0           1           2\n",
       "0  101.515442  103.392219  106.376413\n",
       "1  102.769878  100.176365  109.242971\n",
       "2   90.242372   90.218719   95.475861\n",
       "3  105.474899  112.095220  116.517047\n",
       "4   93.759464   91.451474   97.193932"
      ]
     },
     "execution_count": 17,
     "metadata": {},
     "output_type": "execute_result"
    }
   ],
   "source": [
    "p.head()"
   ]
  },
  {
   "cell_type": "code",
   "execution_count": 18,
   "id": "2bea2435",
   "metadata": {},
   "outputs": [
    {
     "data": {
      "text/plain": [
       "<AxesSubplot:>"
      ]
     },
     "execution_count": 18,
     "metadata": {},
     "output_type": "execute_result"
    },
    {
     "data": {
      "image/png": "[encoded data removed]",
      "text/plain": [
       "<Figure size 432x288 with 1 Axes>"
      ]
     },
     "metadata": {
      "needs_background": "light"
     },
     "output_type": "display_data"
    }
   ],
   "source": [
    "p.plot()"
   ]
  },
  {
   "cell_type": "code",
   "execution_count": 22,
   "id": "eb3b309a",
   "metadata": {},
   "outputs": [],
   "source": [
    "def gbm1(n_years = 10, n_scenarios = 1000, mu = 0.07, sigma = 0.15, steps_per_year = 12, s_0 = 100.0):\n",
    "    \n",
    "    dt = 1 / steps_per_year\n",
    "    n_steps = int(n_years * steps_per_year)\n",
    "    rets_plus_1 = np.random.normal(loc=1+mu*dt, scale=sigma*np.sqrt(dt),size=(n_steps, n_scenarios))\n",
    "    rets_plus_1[0] = 1\n",
    "    print(rets_plus_1.cumprod(axis=1))\n",
    "    # to prices\n",
    "    prices = s_0 * pd.DataFrame(rets_plus_1).cumprod(axis=1)\n",
    "    return prices"
   ]
  },
  {
   "cell_type": "code",
   "execution_count": null,
   "id": "69bff2f3",
   "metadata": {},
   "outputs": [],
   "source": []
  }
 ],
 "metadata": {
  "kernelspec": {
   "display_name": "Python 3",
   "language": "python",
   "name": "python3"
  },
  "language_info": {
   "codemirror_mode": {
    "name": "ipython",
    "version": 3
   },
   "file_extension": ".py",
   "mimetype": "text/x-python",
   "name": "python",
   "nbconvert_exporter": "python",
   "pygments_lexer": "ipython3",
   "version": "3.8.8"
  }
 },
 "nbformat": 4,
 "nbformat_minor": 5
}
