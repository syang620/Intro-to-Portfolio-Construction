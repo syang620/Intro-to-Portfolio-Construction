{
 "cells": [
  {
   "cell_type": "code",
   "execution_count": 1,
   "id": "dfc0bc18",
   "metadata": {},
   "outputs": [],
   "source": [
    "import numpy as np\n",
    "import pandas as pd\n",
    "import edhec_risk_kit_129 as erk\n",
    "import matplotlib.pyplot as plt\n",
    "import seaborn as sns\n",
    "\n",
    "%matplotlib inline\n",
    "%load_ext autoreload\n",
    "%autoreload 2"
   ]
  },
  {
   "cell_type": "markdown",
   "id": "4270a317",
   "metadata": {},
   "source": [
    "B1 is a 15 Year Bond with a Face Value of $1000 that pays a 5% coupon semi-annually (2 times a year)\n",
    "\n",
    "B2 is a 5 Year Bond with a Face value of $1000 that pays a 6% coupon quarterly (4 times a year)\n",
    "\n",
    "B3 is a 10 Year Zero-Coupon Bond with a Face Value of $1000 (Hint: you can still use the erk.bond_cash_flows() and erk.bond_price() by setting the coupon amount to 0% and coupons_per_year to 1)  Assume the yield curve is flat at 5%. Duration refers to Macaulay Duration\n",
    "\n",
    "Hint: the macaulay_duration function gives as output the duration expressed in periods and not in years. If you want to get the yearly duration you need to divide the duration for coupons_per_year; \n",
    "\n",
    "e.g.: duarion_B2 = erk.macaulay_duration(flows_B2, 0.05/4)/4"
   ]
  },
  {
   "cell_type": "code",
   "execution_count": 24,
   "id": "b43f06da",
   "metadata": {},
   "outputs": [
    {
     "name": "stdout",
     "output_type": "stream",
     "text": [
      "B1: 1000.0000000000018\n",
      "B2:  1043.998290335565\n",
      "B3:  613.9132535407591\n"
     ]
    }
   ],
   "source": [
    "# price of each bond\n",
    "\n",
    "price_b1 = erk.bond_price(15, principal=1000, coupon_rate=0.05, coupons_per_year=2, discount_rate=0.05)\n",
    "print(\"B1:\", price_b1[0])\n",
    "\n",
    "price_b2 = erk.bond_price(5, principal=1000, coupon_rate=0.06, coupons_per_year=4, discount_rate=0.05)\n",
    "print(\"B2: \", price_b2[0])\n",
    "\n",
    "price_b3 = erk.bond_price(10, principal=1000, coupon_rate=0, coupons_per_year=1,discount_rate=0.05)\n",
    "print(\"B3: \", price_b3[0])"
   ]
  },
  {
   "cell_type": "code",
   "execution_count": 16,
   "id": "dd3e5740",
   "metadata": {},
   "outputs": [
    {
     "name": "stdout",
     "output_type": "stream",
     "text": [
      "B1:  10.742333260961377\n",
      "B2:  4.374877036571144\n",
      "B3:  10.0\n"
     ]
    }
   ],
   "source": [
    "# duration\n",
    "b1_cf = erk.bond_cash_flows(15, principal=1000, coupon_rate=0.05, coupons_per_year=2)\n",
    "b1_cf.index = b1_cf.index/2\n",
    "print(\"B1: \", erk.macaulay_duration(b1_cf, 0.05))\n",
    "\n",
    "b2_cf = erk.bond_cash_flows(5, principal=1000, coupon_rate=0.06, coupons_per_year=4)\n",
    "b2_cf.index = b2_cf.index/4\n",
    "print(\"B2: \", erk.macaulay_duration(b2_cf, 0.05))\n",
    "\n",
    "b3_cf = erk.bond_cash_flows(10, principal=1000, coupon_rate=0, coupons_per_year=1)\n",
    "print(\"B3: \", erk.macaulay_duration(b3_cf, 0.05))"
   ]
  },
  {
   "cell_type": "code",
   "execution_count": 8,
   "id": "63d5049c",
   "metadata": {},
   "outputs": [
    {
     "data": {
      "text/plain": [
       "6.750917852744651"
      ]
     },
     "execution_count": 8,
     "metadata": {},
     "output_type": "execute_result"
    }
   ],
   "source": [
    "# liabilties\n",
    "unit = 1000\n",
    "liab = unit*pd.DataFrame(data=[100, 200, 300], index = [3,5,10])\n",
    "erk.macaulay_duration(liab, discount_rate=0.05)"
   ]
  },
  {
   "cell_type": "code",
   "execution_count": 22,
   "id": "854f6b48",
   "metadata": {},
   "outputs": [
    {
     "data": {
      "text/plain": [
       "0.6268461482197243"
      ]
     },
     "execution_count": 22,
     "metadata": {},
     "output_type": "execute_result"
    }
   ],
   "source": [
    "#8.\n",
    "# liab_dur = erk.macaulay_duration(liab, discount_rate=0.05)\n",
    "erk.match_durations(liab, b2_cf, b1_cf,0.05)"
   ]
  },
  {
   "cell_type": "code",
   "execution_count": 23,
   "id": "fa3aa76f",
   "metadata": {},
   "outputs": [
    {
     "data": {
      "text/plain": [
       "0.5776019774818993"
      ]
     },
     "execution_count": 23,
     "metadata": {},
     "output_type": "execute_result"
    }
   ],
   "source": [
    "#10.\n",
    "erk.match_durations(liab, b2_cf, b3_cf,0.05)"
   ]
  },
  {
   "cell_type": "code",
   "execution_count": null,
   "id": "a25fa35a",
   "metadata": {},
   "outputs": [],
   "source": []
  }
 ],
 "metadata": {
  "kernelspec": {
   "display_name": "Python 3",
   "language": "python",
   "name": "python3"
  },
  "language_info": {
   "codemirror_mode": {
    "name": "ipython",
    "version": 3
   },
   "file_extension": ".py",
   "mimetype": "text/x-python",
   "name": "python",
   "nbconvert_exporter": "python",
   "pygments_lexer": "ipython3",
   "version": "3.8.8"
  }
 },
 "nbformat": 4,
 "nbformat_minor": 5
}
